{
 "cells": [
  {
   "cell_type": "markdown",
   "metadata": {},
   "source": [
    "# Look at Data"
   ]
  },
  {
   "cell_type": "code",
   "execution_count": 1,
   "metadata": {},
   "outputs": [],
   "source": [
    "def getData(fileName):\n",
    "    dataFile = open(fileName, 'r')\n",
    "    distances = []\n",
    "    masses = []\n",
    "    for line in dataFile:\n",
    "        try:\n",
    "            d, m = line.split()\n",
    "            distances.append(float(d))\n",
    "            masses.append(float(m))\n",
    "        except:\n",
    "            continue\n",
    "    dataFile.close()\n",
    "    return (masses, distances)"
   ]
  },
  {
   "cell_type": "code",
   "execution_count": null,
   "metadata": {},
   "outputs": [],
   "source": [
    "def plotData(fileName):\n",
    "    xVals, yVals = getData(fileName)\n",
    "    xVals = pylab.array(xVals)\n",
    "    yVals = pylab.array(yVals)\n",
    "    xVals = xVals*9.81\n",
    "    pylab.plot(xVals, yVals, 'bo', label = 'Measured displacements')\n",
    "    pylab.title('Measured Displacement of Spring')\n",
    "    pylab.xlabel('Force (Newtons)')\n",
    "    pylab.ylabel('Distance (meters)')\n",
    "\n",
    "plotData('springData.txt')"
   ]
  },
  {
   "cell_type": "markdown",
   "metadata": {},
   "source": [
    "# Using polyFit"
   ]
  },
  {
   "cell_type": "code",
   "execution_count": null,
   "metadata": {},
   "outputs": [],
   "source": [
    "\n",
    "def fitData(fileName):\n",
    "    xVals, yVals = getData(fileName)\n",
    "    xVals = pylab.array(xVals)\n",
    "    yVals = pylab.array(yVals)\n",
    "    xVals = xVals*9.81\n",
    "    pylab.plot(xVals, yVals, 'bo', label = 'Measured points')\n",
    "    pylab.title('Measured Displacement of Spring')\n",
    "    pylab.xlabel('Force (Newtons)')\n",
    "    pylab.ylabel('Distance (meters)')\n",
    "    a,b = pylab.polyfit(xVals, yVals, 1)\n",
    "    estYVals = a * xVals + b\n",
    "    print('a =', a, 'b =', b)\n",
    "    pylab.plot(xVals, estYVals, 'r', label = 'Linear fit, k = ' + str(round(1/a, 5)))\n",
    "    pylab.legend(loc = 'best')"
   ]
  },
  {
   "cell_type": "markdown",
   "metadata": {},
   "source": [
    "# Version using PolyFit"
   ]
  },
  {
   "cell_type": "code",
   "execution_count": null,
   "metadata": {},
   "outputs": [],
   "source": [
    "def fitData1(fileName):\n",
    "    xVals, yVals = getData(fileName)\n",
    "    xVals = pylab.array(xVals)\n",
    "    yVals = pylab.array(yVals)\n",
    "    xVals = xVals*9.81\n",
    "    pylab.plot(xVals, yVals, 'bo', label = 'Measured points')\n",
    "    pylab.title('Measured Displacement of Spring')\n",
    "    pylab.xlabel('Force (Newtons)')\n",
    "    pylab.ylabel('Distance (meters)')\n",
    "    model = pylab.polyfit(xVals, yVals, 1)\n",
    "    estYVals = pylab.polyval(model, xVals)\n",
    "    pylab.plot(xVals, estYVals, 'r', label = 'Linear fit, k = ' + str(round(1/model[0], 5)))\n",
    "    pylab.legend(loc = 'best')"
   ]
  },
  {
   "cell_type": "markdown",
   "metadata": {},
   "source": [
    "# Another Experiment"
   ]
  },
  {
   "cell_type": "code",
   "execution_count": null,
   "metadata": {},
   "outputs": [],
   "source": [
    "xVals, yVals = getData('mysteryData.txt')\n",
    "pylab.plot(xVals, yVals, 'o', label = 'Data Points')\n",
    "pylab.title('Mystery Data')"
   ]
  },
  {
   "cell_type": "markdown",
   "metadata": {},
   "source": [
    "# Fit a Line"
   ]
  },
  {
   "cell_type": "code",
   "execution_count": null,
   "metadata": {},
   "outputs": [],
   "source": [
    "model1 = pylab.polyfit(xVals, yVals, 1)\n",
    "pylab.plot(xVals, pylab.polyval(model1, xVals), label = 'Linear Model')"
   ]
  },
  {
   "cell_type": "markdown",
   "metadata": {},
   "source": [
    "# Trying a higher degree model"
   ]
  },
  {
   "cell_type": "code",
   "execution_count": null,
   "metadata": {},
   "outputs": [],
   "source": [
    "model2 = pylab.polyfit(xVals, yVals, 2)\n",
    "pylab.plot(xVals, pylab.polyval(model2, xVals), 'r--', label = 'Quadratic Model')"
   ]
  },
  {
   "cell_type": "markdown",
   "metadata": {},
   "source": [
    "# Comparing mean Squared Error"
   ]
  },
  {
   "cell_type": "code",
   "execution_count": null,
   "metadata": {},
   "outputs": [],
   "source": [
    "def aveMeanSquareError(data, predicted):\n",
    "    error = 0.0\n",
    "    for i in range(len(data)):\n",
    "        error += (data[i] - predicted[i])**2\n",
    "    return error/len(data)\n",
    "\n",
    "estYVals = pylab.polyval(model1, xVals)\n",
    "print('Ave. mean square error for linear model =', aveMeanSquareError(yVals, estYVals))\n",
    "estYVals = pylab.polyval(model2, xVals)\n",
    "print('Ave. mean square error for quadratic model =', aveMeanSquareError(yVals, estYVals))"
   ]
  },
  {
   "cell_type": "markdown",
   "metadata": {},
   "source": [
    "# R Square"
   ]
  },
  {
   "cell_type": "code",
   "execution_count": null,
   "metadata": {},
   "outputs": [],
   "source": [
    "def rSquared(observed, predicted):\n",
    "    error = ((predicted - observed)**2).sum()\n",
    "    meanError = error/len(observed)\n",
    "    return 1 - (meanError/numpy.var(observed))"
   ]
  },
  {
   "cell_type": "markdown",
   "metadata": {},
   "source": [
    "# Testing Goodness of fits"
   ]
  },
  {
   "cell_type": "code",
   "execution_count": null,
   "metadata": {},
   "outputs": [],
   "source": [
    "def genFits(xVals, yVals, degrees):\n",
    "    models = []\n",
    "    for d in degrees:\n",
    "        model = pylab.polyfit(xVals, yVals, d)\n",
    "        models.append(model)\n",
    "    return models\n",
    "\n",
    "def testFits(models, degrees, xVals, yVals, title):\n",
    "    pylab.plot(xVals, yVals, 'o', label = 'Data')\n",
    "    for i in range(len(models)):\n",
    "        estYVals = pylab.polyval(models[i], xVals)\n",
    "        error = rSquared(yVals, estYVals)\n",
    "        pylab.plot(xVals, estYVals, label = 'Fit of degree ' + str(degrees[i]) + ', R2 = ' + str(round(error, 5)))\n",
    "    pylab.legend(loc = 'best')\n",
    "    pylab.title(title)\n",
    "\n",
    "xVals, yVals = getData('mysteryData.txt')\n",
    "degrees = (1, 2)\n",
    "models = genFits(xVals, yVals, degrees)\n",
    "testFits(models, degrees, xVals, yVals, 'Mystery Data')"
   ]
  },
  {
   "cell_type": "markdown",
   "metadata": {},
   "source": [
    "# How mystery data was generated"
   ]
  },
  {
   "cell_type": "code",
   "execution_count": null,
   "metadata": {},
   "outputs": [],
   "source": [
    "def genNoisyParabolicData(a, b, c, xVals, fName):\n",
    "    yVals = []\n",
    "    for x in xVals:\n",
    "        theoreticalVal = a*x**2 + b*x + c\n",
    "        yVals.append(theoreticalVal + random.gauss(0, 35))\n",
    "    f = open(fName,'w')\n",
    "    f.write('y x\\n')\n",
    "    for i in range(len(yVals)):\n",
    "    f.write(str(yVals[i]) + ' ' + str(xVals[i]) + '\\n')\n",
    "    f.close()\n",
    "\n",
    "#parameters for generating data\n",
    "xVals = range(-10, 11, 1)\n",
    "a, b, c = 3, 0, 0\n",
    "random.seed(0)\n",
    "genNoisyParabolicData(a, b, c, xVals, 'Dataset 1.txt')\n",
    "genNoisyParabolicData(a, b, c, xVals, 'Dataset 2.txt')"
   ]
  },
  {
   "cell_type": "markdown",
   "metadata": {},
   "source": [
    "# Let's look at two data sets"
   ]
  },
  {
   "cell_type": "code",
   "execution_count": null,
   "metadata": {},
   "outputs": [],
   "source": [
    "degrees = (2, 4, 8, 16)\n",
    "\n",
    "xVals1, yVals1 = getData('Dataset 1.txt')\n",
    "models1 = genFits(xVals1, yVals1, degrees)\n",
    "testFits(models1, degrees, xVals1, yVals1, 'DataSet 1.txt')\n",
    "\n",
    "pylab.figure()\n",
    "xVals2, yVals2 = getData('Dataset 2.txt')\n",
    "models2 = genFits(xVals2, yVals2, degrees)\n",
    "testFits(models2, degrees, xVals2, yVals2, 'DataSet 2.txt')"
   ]
  },
  {
   "cell_type": "markdown",
   "metadata": {},
   "source": [
    "# Cross Validate Test Code"
   ]
  },
  {
   "cell_type": "code",
   "execution_count": null,
   "metadata": {},
   "outputs": [],
   "source": [
    "pylab.figure()\n",
    "testFits(models1, degrees, xVals2, yVals2, 'DataSet 2/Model 1')\n",
    "pylab.figure()\n",
    "testFits(models2, degrees, xVals1, yVals1, 'DataSet 1/Model 2')"
   ]
  },
  {
   "cell_type": "markdown",
   "metadata": {},
   "source": [
    "# Fitting a quadratic to a perfect line"
   ]
  },
  {
   "cell_type": "code",
   "execution_count": null,
   "metadata": {},
   "outputs": [],
   "source": [
    "xVals = (0,1,2,3)\n",
    "yVals = xVals\n",
    "pylab.plot(xVals, yVals, label = 'Actual values')\n",
    "a,b,c = pylab.polyfit(xVals, yVals, 2)\n",
    "print('a =', round(a, 4), 'b =', round(b, 4), 'c =', round(c, 4))\n",
    "estYVals = pylab.polyval((a,b,c), xVals)\n",
    "pylab.plot(xVals, estYVals, 'r--', label ='Predictive values')\n",
    "print('R-squared = ', rSquared(yVals, estYVals))\n",
    "pylab.legend(loc = 'best')"
   ]
  },
  {
   "cell_type": "markdown",
   "metadata": {},
   "source": [
    "# Predict another point using same model"
   ]
  },
  {
   "cell_type": "code",
   "execution_count": null,
   "metadata": {},
   "outputs": [],
   "source": [
    "xVals = xVals + (20,)\n",
    "yVals = xVals\n",
    "pylab.plot(xVals, yVals, label = 'Actual values')\n",
    "estYVals = pylab.polyval((a,b,c), xVals)\n",
    "pylab.plot(xVals, estYVals, 'r--', label = 'Predictive values')\n",
    "print('R-squared = ', rSquared(yVals, estYVals))\n",
    "pylab.legend(loc = 'best')"
   ]
  },
  {
   "cell_type": "markdown",
   "metadata": {},
   "source": [
    "# Simulate a small measurement error"
   ]
  },
  {
   "cell_type": "code",
   "execution_count": null,
   "metadata": {},
   "outputs": [],
   "source": [
    "xVals = (0,1,2,3)\n",
    "yVals = (0,1,2,3.1)\n",
    "pylab.plot(xVals, yVals, label = 'Actual values')\n",
    "model = pylab.polyfit(xVals, yVals, 2)\n",
    "print(model)\n",
    "estYVals = pylab.polyval(model, xVals)\n",
    "pylab.plot(xVals, estYVals, 'r--', label = 'Predicted values')\n",
    "print('R-squared = ', rSquared(yVals, estYVals))\n",
    "pylab.legend(loc = 'best')"
   ]
  },
  {
   "cell_type": "markdown",
   "metadata": {},
   "source": [
    "# Predict another point using same model"
   ]
  },
  {
   "cell_type": "code",
   "execution_count": null,
   "metadata": {},
   "outputs": [],
   "source": [
    "xVals = xVals + (20,)\n",
    "yVals = xVals\n",
    "estYVals = pylab.polyval(model, xVals)\n",
    "print('R-squared = ', rSquared(yVals, estYVals))\n",
    "pylab.figure()\n",
    "pylab.plot(xVals, estYVals)\n",
    "pylab.legend(loc = 'best')"
   ]
  },
  {
   "cell_type": "markdown",
   "metadata": {},
   "source": [
    "# Leave-one-out cross validation"
   ]
  },
  {
   "cell_type": "code",
   "execution_count": null,
   "metadata": {},
   "outputs": [],
   "source": [
    "testResults = []\n",
    "for i in range(len(D)):\n",
    "training = D[:].pop(i)\n",
    "model = buildModel(training)\n",
    "testResults.append(test(model, D[i]))\n",
    "Average testResults"
   ]
  },
  {
   "cell_type": "markdown",
   "metadata": {},
   "source": [
    "# Repeated Random Sampling"
   ]
  },
  {
   "cell_type": "code",
   "execution_count": null,
   "metadata": {},
   "outputs": [],
   "source": [
    "testResults = []\n",
    "for i in range(n)\n",
    "randomly partition D into two sets:\n",
    "training and test\n",
    "model = buildModel(training)\n",
    "testResults.append(test(model, test))\n",
    "Average testResults"
   ]
  },
  {
   "cell_type": "markdown",
   "metadata": {},
   "source": [
    "# Temperature example"
   ]
  },
  {
   "cell_type": "code",
   "execution_count": null,
   "metadata": {},
   "outputs": [],
   "source": [
    "class tempDatum(object):\n",
    "    def __init__(self, s):\n",
    "        info = s.split(',')\n",
    "        self.high = float(info[1])\n",
    "        self.year = int(info[2][0:4])\n",
    "    \n",
    "    def getHigh(self):\n",
    "        return self.high\n",
    "    \n",
    "    def getYear(self):\n",
    "        return self.year\n",
    "\n",
    "def getTempData():\n",
    "    inFile = open('temperatures.csv')\n",
    "    data = []\n",
    "    for l in inFile:\n",
    "        try:\n",
    "            data.append(tempDatum(l))\n",
    "        except:\n",
    "            continue\n",
    "    return data\n",
    "\n",
    "def getYearlyMeans(data):\n",
    "    years = {}\n",
    "    for d in data:\n",
    "        try:\n",
    "            years[d.getYear()].append(d.getHigh())\n",
    "        except:\n",
    "            years[d.getYear()] = [d.getHigh()]\n",
    "    for y in years:\n",
    "        years[y] = sum(years[y])/len(years[y])\n",
    "    return years"
   ]
  },
  {
   "cell_type": "markdown",
   "metadata": {},
   "source": [
    "# Get and plot data"
   ]
  },
  {
   "cell_type": "code",
   "execution_count": null,
   "metadata": {},
   "outputs": [],
   "source": [
    "data = getTempData()\n",
    "years = getYearlyMeans(data)\n",
    "xVals, yVals = [], []\n",
    "for e in years:\n",
    "    xVals.append(e)\n",
    "    yVals.append(years[e])\n",
    "pylab.plot(xVals, yVals)\n",
    "pylab.xlabel('Year')\n",
    "pylab.ylabel('Mean Daily High (C)')\n",
    "pylab.title('Select U.S. Cities')"
   ]
  },
  {
   "cell_type": "markdown",
   "metadata": {},
   "source": [
    "# Initialize things"
   ]
  },
  {
   "cell_type": "code",
   "execution_count": null,
   "metadata": {},
   "outputs": [],
   "source": [
    "numSubsets = 10\n",
    "dimensions = (1, 2, 3)\n",
    "rSquares = {}\n",
    "for d in dimensions:\n",
    "    rSquares[d] = []"
   ]
  },
  {
   "cell_type": "markdown",
   "metadata": {},
   "source": [
    "# Split Data"
   ]
  },
  {
   "cell_type": "code",
   "execution_count": null,
   "metadata": {},
   "outputs": [],
   "source": [
    "def splitData(xVals, yVals):\n",
    "    toTrain = random.sample(range(len(xVals)), len(xVals)//2)\n",
    "    trainX, trainY, testX, testY = [],[],[],[]\n",
    "    for i in range(len(xVals)):\n",
    "        if i in toTrain:\n",
    "            trainX.append(xVals[i])\n",
    "            trainY.append(yVals[i])\n",
    "        else:\n",
    "            testX.append(xVals[i])\n",
    "            testY.append(yVals[i])\n",
    "    return trainX, trainY, testX, testY"
   ]
  },
  {
   "cell_type": "markdown",
   "metadata": {},
   "source": [
    "# Train, test, and report"
   ]
  },
  {
   "cell_type": "code",
   "execution_count": null,
   "metadata": {},
   "outputs": [],
   "source": [
    "for f in range(numSubsets):\n",
    "    trainX,trainY,testX,testY = splitData(xVals, yVals)\n",
    "    for d in dimensions:\n",
    "        model = pylab.polyfit(trainX, trainY, d)\n",
    "        estYVals = pylab.polyval(model, testX)\n",
    "        rSquares[d].append(rSquared(testY, estYVals))\n",
    "\n",
    "print('Mean R-squares for test data')\n",
    "for d in dimensions:\n",
    "    mean = round(sum(rSquares[d])/len(rSquares[d]), 4)\n",
    "    sd = round(numpy.std(rSquares[d]), 4)\n",
    "    print('For dimensionality', d, 'mean =', mean, 'Std =', sd)"
   ]
  }
 ],
 "metadata": {
  "kernelspec": {
   "display_name": "Python 3",
   "language": "python",
   "name": "python3"
  },
  "language_info": {
   "codemirror_mode": {
    "name": "ipython",
    "version": 3
   },
   "file_extension": ".py",
   "mimetype": "text/x-python",
   "name": "python",
   "nbconvert_exporter": "python",
   "pygments_lexer": "ipython3",
   "version": "3.7.3"
  }
 },
 "nbformat": 4,
 "nbformat_minor": 2
}
