{
 "cells": [
  {
   "cell_type": "markdown",
   "metadata": {},
   "source": [
    "# Making class called \"Item\""
   ]
  },
  {
   "cell_type": "code",
   "execution_count": 1,
   "metadata": {},
   "outputs": [],
   "source": [
    "class Item(object):\n",
    "    def __init__(self, n, v, w):\n",
    "        self.name = n\n",
    "        self.value = v\n",
    "        self.weight = w\n",
    "    def getName(self):\n",
    "        return self.name\n",
    "    def getValue(self):\n",
    "        return self.value\n",
    "    def getWeight(self):\n",
    "        return self.weight\n",
    "    def __str__(self):\n",
    "        result = '<' + self.name + ',' + str(self.value)\\\n",
    "            + ',' + str(self.weight) + '>'\n",
    "        return result"
   ]
  },
  {
   "cell_type": "markdown",
   "metadata": {},
   "source": [
    "#  Preparing the items"
   ]
  },
  {
   "cell_type": "code",
   "execution_count": 2,
   "metadata": {},
   "outputs": [],
   "source": [
    "def buildItems():\n",
    "    names = ['clock', 'painting', 'radio', 'vase', 'book', 'computer']\n",
    "    vals = [175, 90, 20, 50, 10, 200]\n",
    "    weights = [10, 9, 4, 2, 1, 20]\n",
    "    Items = []\n",
    "    for i in range(len(vals)):\n",
    "        Items.append(Item(names[i], vals[i], weights[i]))\n",
    "    return Items"
   ]
  },
  {
   "cell_type": "markdown",
   "metadata": {},
   "source": [
    "# Greedy Algorithm"
   ]
  },
  {
   "cell_type": "code",
   "execution_count": 3,
   "metadata": {},
   "outputs": [],
   "source": [
    "def greedy(items, maxWeight, keyFunction):\n",
    "    \"\"\"Assumes items a list, maxWeight >= 0,\n",
    "       keyFunction maps elements of items to numbers\"\"\"\n",
    "    itemsCopy = sorted(items, key = keyFunction, reverse = True)\n",
    "    result = []\n",
    "    totalValue, totalWeight = 0.0, 0.0\n",
    "    for i in range(len(itemsCopy)):\n",
    "        if (totalWeight + itemsCopy[i].getWeight()) <= maxWeight:\n",
    "            result.append(itemsCopy[i])\n",
    "            totalWeight += itemsCopy[i].getWeight()\n",
    "            totalValue += itemsCopy[i].getValue()\n",
    "    return (result, totalValue)"
   ]
  },
  {
   "cell_type": "markdown",
   "metadata": {},
   "source": [
    "# Variety of keyFunction"
   ]
  },
  {
   "cell_type": "code",
   "execution_count": 4,
   "metadata": {},
   "outputs": [],
   "source": [
    "def value(item):\n",
    "    return item.getValue()\n",
    "\n",
    "def weightInverse(item):\n",
    "    return 1.0/item.getWeight()\n",
    "\n",
    "def density(item):\n",
    "    return item.getValue()/item.getWeight()\n",
    "\n",
    "def testGreedy(items, maxWeight, keyFunction):\n",
    "    taken, val = greedy(items, maxWeight, keyFunction)\n",
    "    print('Total value of items taken is', val)\n",
    "    for item in taken:\n",
    "        print(' ', item)"
   ]
  },
  {
   "cell_type": "markdown",
   "metadata": {},
   "source": [
    "# Giving the algorithm items"
   ]
  },
  {
   "cell_type": "code",
   "execution_count": 5,
   "metadata": {},
   "outputs": [],
   "source": [
    "def testGreedys(maxWeight = 20):\n",
    "    items = buildItems()\n",
    "    print('Use greedy by value to fill knapsack of size',maxWeight)\n",
    "    testGreedy(items, maxWeight, value)\n",
    "    print('Use greedy by weight to fill a knapsack of size',maxWeight)\n",
    "    testGreedy(items, maxWeight, weightInverse)\n",
    "    print('Use greedy by density to fill a knapsack of size',maxWeight)\n",
    "    testGreedy(items, maxWeight, density)"
   ]
  },
  {
   "cell_type": "markdown",
   "metadata": {},
   "source": [
    "# Testing out 1"
   ]
  },
  {
   "cell_type": "code",
   "execution_count": 6,
   "metadata": {},
   "outputs": [
    {
     "name": "stdout",
     "output_type": "stream",
     "text": [
      "Use greedy by value to fill knapsack of size 20\n",
      "Total value of items taken is 200.0\n",
      "  <computer,200,20>\n",
      "Use greedy by weight to fill a knapsack of size 20\n",
      "Total value of items taken is 170.0\n",
      "  <book,10,1>\n",
      "  <vase,50,2>\n",
      "  <radio,20,4>\n",
      "  <painting,90,9>\n",
      "Use greedy by density to fill a knapsack of size 20\n",
      "Total value of items taken is 255.0\n",
      "  <vase,50,2>\n",
      "  <clock,175,10>\n",
      "  <book,10,1>\n",
      "  <radio,20,4>\n"
     ]
    }
   ],
   "source": [
    "testGreedys()"
   ]
  },
  {
   "cell_type": "markdown",
   "metadata": {},
   "source": [
    "# Recursive Implementation (decision tree)"
   ]
  },
  {
   "cell_type": "code",
   "execution_count": 7,
   "metadata": {},
   "outputs": [],
   "source": [
    "def maxVal(toConsider, avail):\n",
    "    \"\"\"toConsider: a list of items\n",
    "       avail: a weight\"\"\"\n",
    "    if toConsider == [] or avail == 0:\n",
    "        result = (0,())\n",
    "    elif toConsider[0].getWeight() > avail:\n",
    "        result = maxVal(toConsider[1:], avail)\n",
    "    else:\n",
    "        nextItem = toConsider[0]\n",
    "        withVal, withToTake = maxVal(toConsider[1:], \\\n",
    "                              avail - nextItem.getWeight())\n",
    "        withVal += nextItem.getValue()\n",
    "        withoutVal, withoutToTake = maxVal(toConsider[1:],avail)\n",
    "        if withVal > withoutVal:\n",
    "            result = (withVal, withToTake + (nextItem,))\n",
    "        else:\n",
    "            result = (withoutVal, withoutToTake)\n",
    "    return result"
   ]
  },
  {
   "cell_type": "markdown",
   "metadata": {},
   "source": [
    "# make small test using decision tree"
   ]
  },
  {
   "cell_type": "code",
   "execution_count": 8,
   "metadata": {},
   "outputs": [],
   "source": [
    "def smallTest():\n",
    "    Items = buildItems()\n",
    "    val, taken = maxVal(Items, 20)\n",
    "    print('Items Taken')\n",
    "    for item in taken:\n",
    "        print(item)\n",
    "    print('Total value of items taken =', val)"
   ]
  },
  {
   "cell_type": "markdown",
   "metadata": {},
   "source": [
    "# run small test"
   ]
  },
  {
   "cell_type": "code",
   "execution_count": 9,
   "metadata": {},
   "outputs": [
    {
     "name": "stdout",
     "output_type": "stream",
     "text": [
      "Items Taken\n",
      "<book,10,1>\n",
      "<painting,90,9>\n",
      "<clock,175,10>\n",
      "Total value of items taken = 275\n"
     ]
    }
   ],
   "source": [
    "smallTest()"
   ]
  },
  {
   "cell_type": "markdown",
   "metadata": {},
   "source": [
    "# Faster Decision tree"
   ]
  },
  {
   "cell_type": "code",
   "execution_count": 11,
   "metadata": {},
   "outputs": [],
   "source": [
    "def fastMaxVal(toConsider, avail, memo = {}):\n",
    "    if (len(toConsider), avail in memo):\n",
    "        return memo[(len(toConsider), avail)]\n",
    "    elif toConsider == [] or avail == 0:\n",
    "        result = (0, ())\n",
    "    elif toConsider[0].getWeight() > avail:\n",
    "        result = fastMaxVal(toConsider[1:], avail, memo)\n",
    "    else:\n",
    "        nextItem = toConsider[0]\n",
    "        withVal, withToTake = fastMaxVal(toConsider[1:], \\\n",
    "                              avail - nextItem.getWeight(), memo)\n",
    "        withVal += nextItem.getValue()\n",
    "        withoutVal, withoutToTake = fastMaxVal(toConsider[1:],\n",
    "                                    avail, memo)\n",
    "        if withVal > withoutVal:\n",
    "            result = (withVal, withToTake)\n",
    "        else:\n",
    "            result = (withoutVal, withoutToTake)\n",
    "    memo[(len(toConsider), avail)] = result\n",
    "    return result"
   ]
  },
  {
   "cell_type": "code",
   "execution_count": null,
   "metadata": {},
   "outputs": [],
   "source": []
  }
 ],
 "metadata": {
  "kernelspec": {
   "display_name": "Python 3",
   "language": "python",
   "name": "python3"
  },
  "language_info": {
   "codemirror_mode": {
    "name": "ipython",
    "version": 3
   },
   "file_extension": ".py",
   "mimetype": "text/x-python",
   "name": "python",
   "nbconvert_exporter": "python",
   "pygments_lexer": "ipython3",
   "version": "3.7.3"
  }
 },
 "nbformat": 4,
 "nbformat_minor": 2
}
