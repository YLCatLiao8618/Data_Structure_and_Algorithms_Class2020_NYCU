{
 "cells": [
  {
   "cell_type": "markdown",
   "metadata": {},
   "source": [
    "# US temperatures example"
   ]
  },
  {
   "cell_type": "code",
   "execution_count": 1,
   "metadata": {},
   "outputs": [],
   "source": [
    "import random, pylab, numpy\n",
    "def makeHist(data, title, xlabel, ylabel, bins = 20):\n",
    "    pylab.hist(data, bins = bins)\n",
    "    pylab.title(title)\n",
    "    pylab.xlabel(xlabel)\n",
    "    pylab.ylabel(ylabel)\n",
    "def getHighs():\n",
    "    inFile = open('temperatures.csv')\n",
    "    population = []\n",
    "    for l in inFile:\n",
    "        try:\n",
    "            tempC = float(l.split(',')[1])\n",
    "            population.append(tempC)\n",
    "        except:\n",
    "            continue\n",
    "    return population"
   ]
  },
  {
   "cell_type": "code",
   "execution_count": 4,
   "metadata": {},
   "outputs": [],
   "source": [
    "def getMeansAndSDs(population, sample, verbose = False):\n",
    "    popMean = sum(population)/len(population)\n",
    "    sampleMean = sum(sample)/len(sample)\n",
    "    if verbose:\n",
    "        makeHist(population, 'Daily High 1961-2015, Population\\n' + '(mean = ' +\n",
    "            str(round(popMean, 2)) + ')', 'Degrees C', 'Number Days')\n",
    "        pylab.figure()\n",
    "        makeHist(sample, 'Daily High 1961-2015, Sample\\n' + '(mean = ' +\n",
    "            str(round(sampleMean, 2)) + ')', 'Degrees C', 'Number Days')\n",
    "        print('Population mean =', popMean)\n",
    "        print('Standard deviation of population =', numpy.std(population))\n",
    "        print('Sample mean =', sampleMean)\n",
    "        print('Standard deviation of sample =', numpy.std(sample))\n",
    "    return popMean, sampleMean, numpy.std(population), numpy.std(sample)"
   ]
  },
  {
   "cell_type": "code",
   "execution_count": null,
   "metadata": {},
   "outputs": [],
   "source": [
    "random.seed(0)\n",
    "population = getHighs()\n",
    "sample = random.sample(population, 100)\n",
    "getMeansAndSDs(population, sample, True)"
   ]
  },
  {
   "cell_type": "markdown",
   "metadata": {},
   "source": [
    "# Try Multiple times"
   ]
  },
  {
   "cell_type": "code",
   "execution_count": null,
   "metadata": {},
   "outputs": [],
   "source": [
    "sampleSize = 100\n",
    "numSamples = 1000\n",
    "maxMeanDiff = 0\n",
    "maxSDDiff = 0\n",
    "sampleMeans = []\n",
    "for i in range(numSamples):\n",
    "    sample = random.sample(population, sampleSize)\n",
    "    popMean, sampleMean, popSD, sampleSD = getMeansAndSDs(population, sample, verbose = False)\n",
    "    sampleMeans.append(sampleMean)\n",
    "    if abs(popMean - sampleMean) > maxMeanDiff:\n",
    "        maxMeanDiff = abs(popMean - sampleMean)\n",
    "    if abs(popSD - sampleSD) > maxSDDiff:\n",
    "        maxSDDiff = abs(popSD - sampleSD)\n",
    "print('Mean of sample Means =', round(sum(sampleMeans)/len(sampleMeans), 3))\n",
    "print('Standard deviation of sample means =', round(numpy.std(sampleMeans), 3))\n",
    "print('Maximum difference in means =', round(maxMeanDiff, 3))\n",
    "print('Maximum difference in standard deviations =', round(maxSDDiff, 3))\n",
    "makeHist(sampleMeans, 'Means of Samples', 'Mean', 'Frequency')\n",
    "pylab.axvline(x = popMean, color = 'r')\n",
    "16"
   ]
  },
  {
   "cell_type": "markdown",
   "metadata": {},
   "source": [
    "# Show Error Bars"
   ]
  },
  {
   "cell_type": "code",
   "execution_count": null,
   "metadata": {},
   "outputs": [],
   "source": [
    "def showErrorBars(population, sizes, numTrials):\n",
    "    xVals = []\n",
    "    sizeMeans, sizeSDs = [], []\n",
    "    for sampleSize in sizes:\n",
    "        xVals.append(sampleSize)\n",
    "        trialMeans = []\n",
    "        for t in range(numTrials):\n",
    "            sample = random.sample(population, sampleSize)\n",
    "            popMean, sampleMean, popSD, sampleSD = getMeansAndSDs(population, sample)\n",
    "            trialMeans.append(sampleMean)\n",
    "        sizeMeans.append(sum(trialMeans)/len(trialMeans))\n",
    "        sizeSDs.append(numpy.std(trialMeans))\n",
    "    pylab.errorbar(xVals, sizeMeans, yerr = 1.96*pylab.array(sizeSDs), fmt = 'o',\n",
    "                    label = '95% Confidence Interval')\n",
    "    pylab.title('Mean Temperature (' + str(numTrials) + ' trials)')\n",
    "    pylab.xlabel('Sample Size')\n",
    "    pylab.ylabel('Mean')\n",
    "    pylab.axhline(y = popMean, color ='r', label = 'Population Mean')\n",
    "    pylab.xlim(0, sizes[-1] + 10)\n",
    "    pylab.legend()"
   ]
  },
  {
   "cell_type": "markdown",
   "metadata": {},
   "source": [
    "# Testing Standard Error of the Mean"
   ]
  },
  {
   "cell_type": "code",
   "execution_count": null,
   "metadata": {},
   "outputs": [],
   "source": [
    "def sem(popSD, sampleSize):\n",
    "    return popSD/sampleSize**0.5\n",
    "\n",
    "sampleSizes = (25, 50, 100, 200, 300, 400, 500, 600)\n",
    "numTrials = 50\n",
    "population = getHighs()\n",
    "popSD = numpy.std(population)\n",
    "sems = []\n",
    "sampleSDs = []\n",
    "for size in sampleSizes:\n",
    "    sems.append(sem(popSD, size))\n",
    "    means = []\n",
    "    for t in range(numTrials):\n",
    "        sample = random.sample(population, size)\n",
    "        means.append(sum(sample)/len(sample))\n",
    "    sampleSDs.append(numpy.std(means))\n",
    "plt.plot(sampleSizes, sampleSDs, label = 'Std of 50 means')\n",
    "plt.plot(sampleSizes, sems, 'r--', label = 'SEM')\n",
    "plt.title('SEM vs. SD for 50 Means')\n",
    "plt.legend()"
   ]
  },
  {
   "cell_type": "markdown",
   "metadata": {},
   "source": [
    "# Standard Deviation Difference"
   ]
  },
  {
   "cell_type": "code",
   "execution_count": null,
   "metadata": {},
   "outputs": [],
   "source": [
    "def getDiffs(population, sampleSizes):\n",
    "    popStd = numpy.std(population)\n",
    "    diffsFracs = []\n",
    "    for sampleSize in sampleSizes:\n",
    "        diffs = []\n",
    "        for t in range(100):\n",
    "            sample = random.sample(population, sampleSize)\n",
    "            diffs.append(abs(popStd - numpy.std(sample)))\n",
    "        diffMean = sum(diffs)/len(diffs)\n",
    "        diffsFracs.append(diffMean/popStd)\n",
    "    return pylab.array(diffsFracs)*100\n",
    "\n",
    "def plotDiffs(sampleSizes, diffs, title, label):\n",
    "    pylab.plot(sampleSizes, diffs, label = label)\n",
    "    pylab.xlabel('Sample Size')\n",
    "    pylab.ylabel('% Difference in SD')\n",
    "    pylab.title(title)\n",
    "    pylab.legend()\n",
    "    \n",
    "sampleSizes = range(20, 600, 1)\n",
    "diffs = getDiffs(getHighs(), sampleSizes)\n",
    "plotDiffs(sampleSizes, diffs, 'Sample SD vs Population SD, Temperatures', label = 'High temps')"
   ]
  },
  {
   "cell_type": "markdown",
   "metadata": {},
   "source": [
    "# Looking at distributions"
   ]
  },
  {
   "cell_type": "code",
   "execution_count": null,
   "metadata": {},
   "outputs": [],
   "source": [
    "def plotDistributions():\n",
    "    uniform, normal, exp = [], [], []\n",
    "    for i in range(100000):\n",
    "        uniform.append(random.random())\n",
    "        normal.append(random.gauss(0, 1))\n",
    "        exp.append(random.expovariate(0.5))\n",
    "    makeHist(uniform, 'Uniform', 'Value', 'Frequency')\n",
    "    plt.figure()\n",
    "    makeHist(normal, 'Gaussian', 'Value', 'Frequency')\n",
    "    plt.figure()\n",
    "    makeHist(exp, 'Exponential', 'Value', 'Frequency')"
   ]
  },
  {
   "cell_type": "markdown",
   "metadata": {},
   "source": [
    "# Compare Distribution"
   ]
  },
  {
   "cell_type": "code",
   "execution_count": null,
   "metadata": {},
   "outputs": [],
   "source": [
    "def compareDists():\n",
    "    uniform, normal, exp = [], [], []\n",
    "    for i in range(100000):\n",
    "        uniform.append(random.random())\n",
    "        normal.append(random.gauss(0, 1))\n",
    "        exp.append(random.expovariate(0.5))\n",
    "    sampleSizes = range(20, 600, 1)\n",
    "    udiffs = getDiffs(uniform, sampleSizes)\n",
    "    ndiffs = getDiffs(normal, sampleSizes)\n",
    "    ediffs = getDiffs(exp, sampleSizes)\n",
    "    plotDiffs(sampleSizes, udiffs, 'Sample SD vs Population SD', 'Uniform population')\n",
    "    plotDiffs(sampleSizes, ndiffs, 'Sample SD vs Population SD', 'Normal population')\n",
    "    plotDiffs(sampleSizes, ediffs, 'Sample SD vs Population SD', 'Exponential population')"
   ]
  },
  {
   "cell_type": "markdown",
   "metadata": {},
   "source": [
    "# Compare Population Size"
   ]
  },
  {
   "cell_type": "code",
   "execution_count": null,
   "metadata": {},
   "outputs": [],
   "source": [
    "popSizes = (10000, 100000, 1000000)\n",
    "sampleSizes = range(20, 600, 1)\n",
    "for size in popSizes:\n",
    "    population = []\n",
    "    for i in range(size):\n",
    "        population.append(random.expovariate(0.5))\n",
    "    ediffs = getDiffs(population, sampleSizes)\n",
    "    plotDiffs(sampleSizes, ediffs, 'Sample SD vs Population SD, Uniform',\n",
    "        'Population size = ' + str(size))"
   ]
  },
  {
   "cell_type": "markdown",
   "metadata": {},
   "source": [
    "# Are 200 samples enough?"
   ]
  },
  {
   "cell_type": "code",
   "execution_count": null,
   "metadata": {},
   "outputs": [],
   "source": [
    "temps = getHighs()\n",
    "popMean = sum(temps)/len(temps)\n",
    "sampleSize = 200\n",
    "numTrials = 10000\n",
    "numBad = 0\n",
    "for t in range(numTrials):\n",
    "    sample = random.sample(temps, sampleSize)\n",
    "    sampleMean = sum(sample)/sampleSize\n",
    "    se = numpy.std(sample)/sampleSize**0.5\n",
    "    if abs(popMean - sampleMean) > 1.96*se:\n",
    "        numBad += 1\n",
    "print('Fraction outside 95% confidence interval =', numBad/numTrials)\n",
    "#Fraction outside 95% confidence interval = 0.0511"
   ]
  },
  {
   "cell_type": "code",
   "execution_count": null,
   "metadata": {},
   "outputs": [],
   "source": [
    "for t in range(numTrials):\n",
    "    posStartingPts = range(0, len(temps) - sampleSize)\n",
    "    start = random.choice(posStartingPts)\n",
    "    sample = temps[start:start+sampleSize]\n",
    "    sampleMean = sum(sample)/sampleSize\n",
    "    se = numpy.std(sample)/sampleSize**0.5\n",
    "    if abs(popMean - sampleMean) > 1.96*se:\n",
    "        numBad += 1\n",
    "print('Fraction outside 95% confidence interval =', numBad/numTrials)\n",
    "#Fraction outside 95% confidence interval = 0.9367"
   ]
  }
 ],
 "metadata": {
  "kernelspec": {
   "display_name": "Python 3",
   "language": "python",
   "name": "python3"
  },
  "language_info": {
   "codemirror_mode": {
    "name": "ipython",
    "version": 3
   },
   "file_extension": ".py",
   "mimetype": "text/x-python",
   "name": "python",
   "nbconvert_exporter": "python",
   "pygments_lexer": "ipython3",
   "version": "3.7.3"
  }
 },
 "nbformat": 4,
 "nbformat_minor": 2
}
