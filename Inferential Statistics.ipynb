{
 "cells": [
  {
   "cell_type": "markdown",
   "metadata": {},
   "source": [
    "# Fair Roulette"
   ]
  },
  {
   "cell_type": "code",
   "execution_count": 1,
   "metadata": {},
   "outputs": [],
   "source": [
    "class FairRoulette():\n",
    "    def __init__(self):\n",
    "        self.pockets = []\n",
    "        for i in range(1,37):\n",
    "            self.pockets.append(i)\n",
    "        self.ball = None\n",
    "        self.blackOdds, self.redOdds = 1.0, 1.0\n",
    "        self.pocketOdds = len(self.pockets) - 1.0\n",
    "    def spin(self):\n",
    "        self.ball = random.choice(self.pockets)\n",
    "    def isBlack(self):\n",
    "        if type(self.ball) != int:\n",
    "            return False\n",
    "        if ((self.ball > 0 and self.ball <= 10) or (self.ball>18 and self.ball<=28)):\n",
    "            return self.ball%2 == 0\n",
    "        else:\n",
    "            return self.ball%2 == 1\n",
    "    def isRed(self):\n",
    "        return type(self.ball) == int and not self.isBlack()\n",
    "    def betBlack(self, amt):\n",
    "        if self.isBlack():\n",
    "            return amt*self.blackOdds\n",
    "        else: return -amt\n",
    "    def betRed(self, amt):\n",
    "        if self.isRed():\n",
    "            return amt*self.redOdds\n",
    "        else: return -amt*self.redOdds\n",
    "    def betPocket(self, pocket, amt):\n",
    "        if str(pocket) == str(self.ball):\n",
    "            return amt*self.pocketOdds\n",
    "        else: return -amt\n",
    "    def __str__(self):\n",
    "        return 'Fair Roulette'"
   ]
  },
  {
   "cell_type": "markdown",
   "metadata": {},
   "source": [
    "# Play Roulette"
   ]
  },
  {
   "cell_type": "code",
   "execution_count": 3,
   "metadata": {},
   "outputs": [],
   "source": [
    "def playRoulette(game, numSpins, toPrint = True):\n",
    "    luckyNumber = '2'\n",
    "    bet = 1\n",
    "    totRed, totBlack, totPocket = 0.0, 0.0, 0.0\n",
    "    for i in range(numSpins):\n",
    "        game.spin()\n",
    "        totRed += game.betRed(bet)\n",
    "        totBlack += game.betBlack(bet)\n",
    "        totPocket += game.betPocket(luckyNumber, bet)\n",
    "    if toPrint:\n",
    "        print(numSpins, 'spins of', game)\n",
    "        print('Expected return betting red =', str(100*totRed/numSpins) + '%')\n",
    "        print('Expected return betting black =', str(100*totBlack/numSpins) + '%')\n",
    "        print('Expected return betting', luckyNumber, '=',\\\n",
    "             str(100*totPocket/numSpins)+ '%\\n')\n",
    "    return (totRed/numSpins, totBlack/numSpins, totPocket/numSpins)"
   ]
  },
  {
   "cell_type": "markdown",
   "metadata": {},
   "source": [
    "# European Roulette"
   ]
  },
  {
   "cell_type": "code",
   "execution_count": 4,
   "metadata": {},
   "outputs": [],
   "source": [
    "class EuRoulette(FairRoulette):\n",
    "    def __init__(self):\n",
    "        FairRoulette.__init__(self)\n",
    "        self.pockets.append('0')\n",
    "    def __str__(self):\n",
    "        return 'European Roulette'"
   ]
  },
  {
   "cell_type": "markdown",
   "metadata": {},
   "source": [
    "# American Roulette"
   ]
  },
  {
   "cell_type": "code",
   "execution_count": 5,
   "metadata": {},
   "outputs": [],
   "source": [
    "class AmRoulette(EuRoulette):\n",
    "    def __init__(self):\n",
    "        EuRoulette.__init__(self)\n",
    "        self.pockets.append('00')\n",
    "    def __str__(self):\n",
    "        return 'American Roulette'"
   ]
  },
  {
   "cell_type": "markdown",
   "metadata": {},
   "source": [
    "# Packet Return"
   ]
  },
  {
   "cell_type": "code",
   "execution_count": 6,
   "metadata": {},
   "outputs": [],
   "source": [
    "def findPocketReturn(game, numTrials, trialSize, toPrint):\n",
    "    pocketReturns = []\n",
    "    for t in range(numTrials):\n",
    "        trialVals = playRoulette(game, trialSize, toPrint)\n",
    "        pocketReturns.append(trialVals[2])\n",
    "    return pocketReturns"
   ]
  },
  {
   "cell_type": "markdown",
   "metadata": {},
   "source": [
    "# Run the Simulation"
   ]
  },
  {
   "cell_type": "code",
   "execution_count": 19,
   "metadata": {},
   "outputs": [
    {
     "name": "stdout",
     "output_type": "stream",
     "text": [
      "\n",
      "Simulate betting a pocket for 20 trials of 100 spins each\n",
      "Exp. return for Fair Roulette = 6.2%\n",
      "Exp. return for European Roulette = -8.2%\n",
      "Exp. return for American Roulette = 2.6%\n",
      "\n",
      "Simulate betting a pocket for 20 trials of 1000 spins each\n",
      "Exp. return for Fair Roulette = 4.8%\n",
      "Exp. return for European Roulette = -2.4%\n",
      "Exp. return for American Roulette = -9.5%\n",
      "\n",
      "Simulate betting a pocket for 20 trials of 10000 spins each\n",
      "Exp. return for Fair Roulette = -1.3%\n",
      "Exp. return for European Roulette = -4.1%\n",
      "Exp. return for American Roulette = -5.7%\n",
      "\n",
      "Simulate betting a pocket for 20 trials of 100000 spins each\n",
      "Exp. return for Fair Roulette = 0.8%\n",
      "Exp. return for European Roulette = -2.6%\n",
      "Exp. return for American Roulette = -5.1%\n"
     ]
    }
   ],
   "source": [
    "import random\n",
    "random.seed(0)\n",
    "numTrials = 20\n",
    "games = (FairRoulette, EuRoulette, AmRoulette)\n",
    "for numSpins in (100, 1000, 10000, 100000):\n",
    "    print('\\nSimulate betting a pocket for', numTrials, 'trials of', \\\n",
    "         numSpins, 'spins each')\n",
    "    for G in games:\n",
    "        pocketReturns = findPocketReturn(G(), numTrials, numSpins, False)\n",
    "        \n",
    "        print('Exp. return for', G(), '=', \\\n",
    "              str(round(100*sum(pocketReturns)/float(len(pocketReturns)),1)) + '%')"
   ]
  },
  {
   "cell_type": "markdown",
   "metadata": {},
   "source": [
    "# Quantifying Variation in data"
   ]
  },
  {
   "cell_type": "code",
   "execution_count": 20,
   "metadata": {},
   "outputs": [],
   "source": [
    "def getMeanAndStd(X):\n",
    "    mean = sum(X)/float(len(X))\n",
    "    tot = 0.0\n",
    "    for x in X:\n",
    "        tot += (x - mean)**2\n",
    "    std = (tot/len(X))**0.5\n",
    "    return mean, std"
   ]
  },
  {
   "cell_type": "markdown",
   "metadata": {},
   "source": [
    "# Applying Empirical Rule"
   ]
  },
  {
   "cell_type": "code",
   "execution_count": 21,
   "metadata": {},
   "outputs": [
    {
     "name": "stdout",
     "output_type": "stream",
     "text": [
      "\n",
      "Simulate betting a pocket for 20 trials of 1000 spins each\n",
      "Exp. return for Fair Roulette = -0.28%, +/-28.67% with 95% confidence\n",
      "Exp. return for European Roulette = -4.6%, +/-31.83% with 95% confidence\n",
      "Exp. return for American Roulette = -5.68%, +/-37.243% with 95% confidence\n",
      "\n",
      "Simulate betting a pocket for 20 trials of 100000 spins each\n",
      "Exp. return for Fair Roulette = 0.195%, +/-3.907% with 95% confidence\n",
      "Exp. return for European Roulette = -2.559%, +/-4.244% with 95% confidence\n",
      "Exp. return for American Roulette = -4.967%, +/-3.549% with 95% confidence\n",
      "\n",
      "Simulate betting a pocket for 20 trials of 1000000 spins each\n",
      "Exp. return for Fair Roulette = -0.141%, +/-0.932% with 95% confidence\n",
      "Exp. return for European Roulette = -2.679%, +/-1.176% with 95% confidence\n",
      "Exp. return for American Roulette = -5.395%, +/-0.866% with 95% confidence\n"
     ]
    }
   ],
   "source": [
    "numTrials = 20\n",
    "games = (FairRoulette, EuRoulette, AmRoulette)\n",
    "for numSpins in (1000, 100000, 1000000):\n",
    "    print('\\nSimulate betting a pocket for', numTrials, 'trials of', numSpins, 'spins each')\n",
    "    for G in games:\n",
    "        pocketReturns = findPocketReturn(G(), 20, numSpins, False)\n",
    "        mean, std = getMeanAndStd(pocketReturns)\n",
    "        print('Exp. return for', G(), '=', str(round(100*mean, 3))\n",
    "              + '%,', '+/-' + str(round(100*1.96*std, 3)) + '% with 95% confidence')"
   ]
  },
  {
   "cell_type": "markdown",
   "metadata": {},
   "source": [
    "# Generating Normal Distribution"
   ]
  },
  {
   "cell_type": "code",
   "execution_count": 7,
   "metadata": {},
   "outputs": [],
   "source": [
    "import random \n",
    "import pylab"
   ]
  },
  {
   "cell_type": "code",
   "execution_count": 8,
   "metadata": {},
   "outputs": [
    {
     "data": {
      "text/plain": [
       "(array([1.0000e+00, 5.0000e+00, 7.0000e+00, 3.3000e+01, 7.2000e+01,\n",
       "        2.1900e+02, 4.4200e+02, 8.6000e+02, 1.6850e+03, 2.8740e+03,\n",
       "        4.4970e+03, 6.4450e+03, 8.6180e+03, 1.0336e+04, 1.1562e+04,\n",
       "        1.1725e+04, 1.1049e+04, 9.3770e+03, 7.2610e+03, 5.2050e+03,\n",
       "        3.5350e+03, 1.9640e+03, 1.1500e+03, 6.3500e+02, 2.6600e+02,\n",
       "        1.0500e+02, 4.6000e+01, 1.7000e+01, 7.0000e+00, 2.0000e+00]),\n",
       " array([-135.13307028, -126.24675243, -117.36043458, -108.47411673,\n",
       "         -99.58779888,  -90.70148103,  -81.81516318,  -72.92884533,\n",
       "         -64.04252748,  -55.15620963,  -46.26989178,  -37.38357393,\n",
       "         -28.49725608,  -19.61093823,  -10.72462038,   -1.83830253,\n",
       "           7.04801532,   15.93433317,   24.82065102,   33.70696887,\n",
       "          42.59328672,   51.47960457,   60.36592242,   69.25224027,\n",
       "          78.13855812,   87.02487597,   95.91119382,  104.79751168,\n",
       "         113.68382953,  122.57014738,  131.45646523]),\n",
       " <a list of 30 Patch objects>)"
      ]
     },
     "execution_count": 8,
     "metadata": {},
     "output_type": "execute_result"
    },
    {
     "data": {
      "image/png": "[encoded data removed]",
      "text/plain": [
       "<Figure size 432x288 with 1 Axes>"
      ]
     },
     "metadata": {
      "needs_background": "light"
     },
     "output_type": "display_data"
    }
   ],
   "source": [
    "dist = []\n",
    "for i in range(100000):\n",
    "    dist.append(random.gauss(0, 30))\n",
    "pylab.hist(dist, 30)"
   ]
  },
  {
   "cell_type": "markdown",
   "metadata": {},
   "source": [
    "# Checking Empirical Rule"
   ]
  },
  {
   "cell_type": "code",
   "execution_count": 22,
   "metadata": {},
   "outputs": [],
   "source": [
    "import scipy.integrate\n",
    "\n",
    "def gaussian(x, mu, sigma):\n",
    "    factor1 = (1.0/(sigma*((2*pylab.pi)**0.5)))\n",
    "    factor2 = pylab.e**-(((x-mu)**2)/(2*sigma**2))\n",
    "    return factor1*factor2\n",
    "\n",
    "def checkEmpirical(numTrials):\n",
    "    for t in range(numTrials):\n",
    "        mu = random.randint(-10, 10)\n",
    "        sigma = random.randint(1, 10)\n",
    "        print('For mu=', mu, 'and sigma =', sigma)\n",
    "        for numStd in (1, 1.96, 3):\n",
    "            area = scipy.integrate.quad(gaussian, mu-numStd*sigma, mu+numStd*sigma, (mu, sigma))[0]\n",
    "            print('Fraction within', numStd, 'std =', round(area, 4))"
   ]
  },
  {
   "cell_type": "code",
   "execution_count": null,
   "metadata": {},
   "outputs": [],
   "source": []
  }
 ],
 "metadata": {
  "kernelspec": {
   "display_name": "Python 3",
   "language": "python",
   "name": "python3"
  },
  "language_info": {
   "codemirror_mode": {
    "name": "ipython",
    "version": 3
   },
   "file_extension": ".py",
   "mimetype": "text/x-python",
   "name": "python",
   "nbconvert_exporter": "python",
   "pygments_lexer": "ipython3",
   "version": "3.7.3"
  }
 },
 "nbformat": 4,
 "nbformat_minor": 2
}
