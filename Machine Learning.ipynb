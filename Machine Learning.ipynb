{
 "cells": [
  {
   "cell_type": "markdown",
   "metadata": {},
   "source": [
    "# Scaling"
   ]
  },
  {
   "cell_type": "code",
   "execution_count": null,
   "metadata": {},
   "outputs": [],
   "source": [
    "def zScaleFeatures(vals):\n",
    "    \"\"\"Assumes vals is a sequence of floats\"\"\"\n",
    "    result = plt.array(vals)\n",
    "    mean = float(sum(result))/len(result)\n",
    "    result = result - mean\n",
    "    return result/stdDev(result)\n",
    "\n",
    "def iScaleFeatures(vals):\n",
    "    \"\"\"Assumes vals is a sequence of floats\"\"\"\n",
    "    minVal, maxVal = min(vals), max(vals)\n",
    "    fit = plt.polyfit([minVal, maxVal], [0, 1], 1)\n",
    "    return plt.polyval(fit, vals)"
   ]
  },
  {
   "cell_type": "markdown",
   "metadata": {},
   "source": [
    "# Mitigating dependence on initial centroids"
   ]
  },
  {
   "cell_type": "code",
   "execution_count": null,
   "metadata": {},
   "outputs": [],
   "source": [
    "best = kMeans(points)\n",
    "    for t in range(numTrials):\n",
    "        C = kMeans(points)\n",
    "        if dissimilarity(C) < dissimilarity(best):\n",
    "            best = C\n",
    "    return best"
   ]
  }
 ],
 "metadata": {
  "kernelspec": {
   "display_name": "Python 3",
   "language": "python",
   "name": "python3"
  },
  "language_info": {
   "codemirror_mode": {
    "name": "ipython",
    "version": 3
   },
   "file_extension": ".py",
   "mimetype": "text/x-python",
   "name": "python",
   "nbconvert_exporter": "python",
   "pygments_lexer": "ipython3",
   "version": "3.7.3"
  }
 },
 "nbformat": 4,
 "nbformat_minor": 2
}
